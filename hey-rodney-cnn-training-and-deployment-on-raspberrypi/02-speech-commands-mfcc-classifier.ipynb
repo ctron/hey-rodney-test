{
 "cells": [
  {
   "cell_type": "code",
   "execution_count": 28,
   "metadata": {},
   "outputs": [],
   "source": [
    "from os import listdir\n",
    "from os.path import isdir, join\n",
    "from tensorflow.keras import layers, models\n",
    "import numpy as np"
   ]
  },
  {
   "cell_type": "code",
   "execution_count": 29,
   "metadata": {},
   "outputs": [
    {
     "name": "stdout",
     "output_type": "stream",
     "text": [
      "['nine', 'happy', 'tree', 'backward', 'bed', 'learn', 'one', 'five', 'Images', 'off', 'down', 'forward', 'sheila', 'cat', 'dog', 'up', 'bird', 'follow', 'six', 'eight', 'zero', 'three', 'right', 'go', 'left', 'no', 'wow', 'stop', 'on', 'yes', 'four', 'visual', 'marvin', 'seven', 'two', 'house']\n"
     ]
    }
   ],
   "source": [
    "# Create list of all targets (minus background noise)\n",
    "dataset_path = 'speech_command_dataset'\n",
    "all_targets = all_targets = [name for name in listdir(dataset_path) if isdir(join(dataset_path, name))]\n",
    "all_targets.remove('_background_noise_')\n",
    "print(all_targets)"
   ]
  },
  {
   "cell_type": "code",
   "execution_count": 30,
   "metadata": {},
   "outputs": [],
   "source": [
    "# Settings\n",
    "feature_sets_path = 'feature_sets_directory'\n",
    "feature_sets_filename = 'all_targets_mfcc_sets.npz'\n",
    "model_filename = 'hey_rodney_model.h5'\n",
    "wake_word = 'hey-rodney'"
   ]
  },
  {
   "cell_type": "code",
   "execution_count": 32,
   "metadata": {},
   "outputs": [
    {
     "name": "stdout",
     "output_type": "stream",
     "text": [
      "['x_train', 'y_train', 'x_val', 'y_val', 'x_test', 'y_test']\n"
     ]
    }
   ],
   "source": [
    "# Load feature sets\n",
    "feature_sets = np.load(join(feature_sets_path, feature_sets_filename))\n",
    "print(feature_sets.files)"
   ]
  },
  {
   "cell_type": "code",
   "execution_count": 33,
   "metadata": {},
   "outputs": [],
   "source": [
    "# Assign feature sets\n",
    "x_train = feature_sets['x_train']\n",
    "y_train = feature_sets['y_train']\n",
    "x_val = feature_sets['x_val']\n",
    "y_val = feature_sets['y_val']\n",
    "x_test = feature_sets['x_test']\n",
    "y_test = feature_sets['y_test']"
   ]
  },
  {
   "cell_type": "code",
   "execution_count": 34,
   "metadata": {},
   "outputs": [
    {
     "name": "stdout",
     "output_type": "stream",
     "text": [
      "(77458, 16, 16)\n",
      "(9675, 16, 16)\n",
      "(9723, 16, 16)\n"
     ]
    }
   ],
   "source": [
    "# Look at tensor dimensions\n",
    "print(x_train.shape)\n",
    "print(x_val.shape)\n",
    "print(x_test.shape)"
   ]
  },
  {
   "cell_type": "code",
   "execution_count": 35,
   "metadata": {},
   "outputs": [
    {
     "name": "stdout",
     "output_type": "stream",
     "text": [
      "[ 0. 25. 21. ... 24. 27.  0.]\n"
     ]
    }
   ],
   "source": [
    "# Peek at labels\n",
    "print(y_val)"
   ]
  },
  {
   "cell_type": "code",
   "execution_count": 36,
   "metadata": {},
   "outputs": [],
   "source": [
    "# Convert ground truth arrays to one wake word (1) and 'other' (0)\n",
    "wake_word_index = all_targets.index(wake_word)\n",
    "y_train = np.equal(y_train, wake_word_index).astype('float64')\n",
    "y_val = np.equal(y_val, wake_word_index).astype('float64')\n",
    "y_test = np.equal(y_test, wake_word_index).astype('float64')"
   ]
  },
  {
   "cell_type": "code",
   "execution_count": 37,
   "metadata": {},
   "outputs": [
    {
     "name": "stdout",
     "output_type": "stream",
     "text": [
      "[0. 0. 0. ... 0. 0. 0.]\n"
     ]
    }
   ],
   "source": [
    "# Peek at labels after conversion\n",
    "print(y_val)"
   ]
  },
  {
   "cell_type": "code",
   "execution_count": 38,
   "metadata": {},
   "outputs": [
    {
     "name": "stdout",
     "output_type": "stream",
     "text": [
      "0.01984496124031008\n",
      "0.9801550387596899\n"
     ]
    }
   ],
   "source": [
    "# What percentage of 'stop' appear in validation labels\n",
    "print(sum(y_val) / len(y_val))\n",
    "print(1 - sum(y_val) / len(y_val))"
   ]
  },
  {
   "cell_type": "code",
   "execution_count": 39,
   "metadata": {},
   "outputs": [
    {
     "name": "stdout",
     "output_type": "stream",
     "text": [
      "(77458, 16, 16)\n"
     ]
    }
   ],
   "source": [
    "# View the dimensions of our input data\n",
    "print(x_train.shape)"
   ]
  },
  {
   "cell_type": "code",
   "execution_count": 40,
   "metadata": {},
   "outputs": [
    {
     "name": "stdout",
     "output_type": "stream",
     "text": [
      "(77458, 16, 16, 1)\n",
      "(9675, 16, 16, 1)\n",
      "(9723, 16, 16, 1)\n"
     ]
    }
   ],
   "source": [
    "# CNN for TF expects (batch, height, width, channels)\n",
    "# So we reshape the input tensors with a \"color\" channel of 1\n",
    "x_train = x_train.reshape(x_train.shape[0], \n",
    "                          x_train.shape[1], \n",
    "                          x_train.shape[2], \n",
    "                          1)\n",
    "x_val = x_val.reshape(x_val.shape[0], \n",
    "                      x_val.shape[1], \n",
    "                      x_val.shape[2], \n",
    "                      1)\n",
    "x_test = x_test.reshape(x_test.shape[0], \n",
    "                        x_test.shape[1], \n",
    "                        x_test.shape[2], \n",
    "                        1)\n",
    "print(x_train.shape)\n",
    "print(x_val.shape)\n",
    "print(x_test.shape)"
   ]
  },
  {
   "cell_type": "code",
   "execution_count": 41,
   "metadata": {},
   "outputs": [
    {
     "name": "stdout",
     "output_type": "stream",
     "text": [
      "(16, 16, 1)\n"
     ]
    }
   ],
   "source": [
    "# Input shape for CNN is size of MFCC of 1 sample\n",
    "sample_shape = x_test.shape[1:]\n",
    "print(sample_shape)"
   ]
  },
  {
   "cell_type": "code",
   "execution_count": 42,
   "metadata": {},
   "outputs": [],
   "source": [
    "# Build model\n",
    "# Based on: https://www.geeksforgeeks.org/python-image-classification-using-keras/\n",
    "model = models.Sequential()\n",
    "model.add(layers.Conv2D(32, \n",
    "                        (2, 2), \n",
    "                        activation='relu',\n",
    "                        input_shape=sample_shape))\n",
    "model.add(layers.MaxPooling2D(pool_size=(2, 2)))\n",
    "\n",
    "model.add(layers.Conv2D(32, (2, 2), activation='relu'))\n",
    "model.add(layers.MaxPooling2D(pool_size=(2, 2)))\n",
    "\n",
    "model.add(layers.Conv2D(64, (2, 2), activation='relu'))\n",
    "model.add(layers.MaxPooling2D(pool_size=(2, 2)))\n",
    "\n",
    "# Classifier\n",
    "model.add(layers.Flatten())\n",
    "model.add(layers.Dense(64, activation='relu'))\n",
    "model.add(layers.Dropout(0.5))\n",
    "model.add(layers.Dense(1, activation='sigmoid'))"
   ]
  },
  {
   "cell_type": "code",
   "execution_count": 43,
   "metadata": {},
   "outputs": [
    {
     "name": "stdout",
     "output_type": "stream",
     "text": [
      "Model: \"sequential_1\"\n",
      "_________________________________________________________________\n",
      "Layer (type)                 Output Shape              Param #   \n",
      "=================================================================\n",
      "conv2d_3 (Conv2D)            (None, 15, 15, 32)        160       \n",
      "_________________________________________________________________\n",
      "max_pooling2d_3 (MaxPooling2 (None, 7, 7, 32)          0         \n",
      "_________________________________________________________________\n",
      "conv2d_4 (Conv2D)            (None, 6, 6, 32)          4128      \n",
      "_________________________________________________________________\n",
      "max_pooling2d_4 (MaxPooling2 (None, 3, 3, 32)          0         \n",
      "_________________________________________________________________\n",
      "conv2d_5 (Conv2D)            (None, 2, 2, 64)          8256      \n",
      "_________________________________________________________________\n",
      "max_pooling2d_5 (MaxPooling2 (None, 1, 1, 64)          0         \n",
      "_________________________________________________________________\n",
      "flatten_1 (Flatten)          (None, 64)                0         \n",
      "_________________________________________________________________\n",
      "dense_2 (Dense)              (None, 64)                4160      \n",
      "_________________________________________________________________\n",
      "dropout_1 (Dropout)          (None, 64)                0         \n",
      "_________________________________________________________________\n",
      "dense_3 (Dense)              (None, 1)                 65        \n",
      "=================================================================\n",
      "Total params: 16,769\n",
      "Trainable params: 16,769\n",
      "Non-trainable params: 0\n",
      "_________________________________________________________________\n"
     ]
    }
   ],
   "source": [
    "# Display model\n",
    "model.summary()"
   ]
  },
  {
   "cell_type": "code",
   "execution_count": 44,
   "metadata": {},
   "outputs": [],
   "source": [
    "# Add training parameters to model\n",
    "model.compile(loss='binary_crossentropy', \n",
    "              optimizer='rmsprop', \n",
    "              metrics=['acc'])"
   ]
  },
  {
   "cell_type": "code",
   "execution_count": 45,
   "metadata": {},
   "outputs": [
    {
     "name": "stdout",
     "output_type": "stream",
     "text": [
      "Epoch 1/30\n",
      "775/775 [==============================] - 7s 7ms/step - loss: 0.0809 - acc: 0.9800 - val_loss: 0.0597 - val_acc: 0.9808\n",
      "Epoch 2/30\n",
      "775/775 [==============================] - 5s 7ms/step - loss: 0.0529 - acc: 0.9849 - val_loss: 0.0391 - val_acc: 0.9890\n",
      "Epoch 3/30\n",
      "775/775 [==============================] - 6s 7ms/step - loss: 0.0435 - acc: 0.9880 - val_loss: 0.0565 - val_acc: 0.9844\n",
      "Epoch 4/30\n",
      "775/775 [==============================] - 6s 7ms/step - loss: 0.0407 - acc: 0.9895 - val_loss: 0.0530 - val_acc: 0.9889\n",
      "Epoch 5/30\n",
      "775/775 [==============================] - 6s 7ms/step - loss: 0.0407 - acc: 0.9896 - val_loss: 0.0412 - val_acc: 0.9894\n",
      "Epoch 6/30\n",
      "775/775 [==============================] - 6s 7ms/step - loss: 0.0400 - acc: 0.9901 - val_loss: 0.0442 - val_acc: 0.9903\n",
      "Epoch 7/30\n",
      "775/775 [==============================] - 6s 7ms/step - loss: 0.0419 - acc: 0.9904 - val_loss: 0.0488 - val_acc: 0.9879\n",
      "Epoch 8/30\n",
      "775/775 [==============================] - 6s 7ms/step - loss: 0.0400 - acc: 0.9905 - val_loss: 0.0390 - val_acc: 0.9903\n",
      "Epoch 9/30\n",
      "775/775 [==============================] - 6s 7ms/step - loss: 0.0407 - acc: 0.9907 - val_loss: 0.0894 - val_acc: 0.9898\n",
      "Epoch 10/30\n",
      "775/775 [==============================] - 6s 7ms/step - loss: 0.0407 - acc: 0.9902 - val_loss: 0.0318 - val_acc: 0.9910\n",
      "Epoch 11/30\n",
      "775/775 [==============================] - 6s 7ms/step - loss: 0.0387 - acc: 0.9907 - val_loss: 0.0354 - val_acc: 0.9903\n",
      "Epoch 12/30\n",
      "775/775 [==============================] - 6s 7ms/step - loss: 0.0406 - acc: 0.9909 - val_loss: 0.0262 - val_acc: 0.9924\n",
      "Epoch 13/30\n",
      "775/775 [==============================] - 6s 7ms/step - loss: 0.0378 - acc: 0.9913 - val_loss: 0.0382 - val_acc: 0.9931\n",
      "Epoch 14/30\n",
      "775/775 [==============================] - 5s 7ms/step - loss: 0.0398 - acc: 0.9913 - val_loss: 0.0268 - val_acc: 0.9931\n",
      "Epoch 15/30\n",
      "775/775 [==============================] - 5s 7ms/step - loss: 0.0389 - acc: 0.9912 - val_loss: 0.0249 - val_acc: 0.9922\n",
      "Epoch 16/30\n",
      "775/775 [==============================] - 5s 6ms/step - loss: 0.0355 - acc: 0.9915 - val_loss: 0.0433 - val_acc: 0.9908\n",
      "Epoch 17/30\n",
      "775/775 [==============================] - 5s 7ms/step - loss: 0.0362 - acc: 0.9914 - val_loss: 0.0397 - val_acc: 0.9899\n",
      "Epoch 18/30\n",
      "775/775 [==============================] - 5s 7ms/step - loss: 0.0369 - acc: 0.9921 - val_loss: 0.0265 - val_acc: 0.9924\n",
      "Epoch 19/30\n",
      "775/775 [==============================] - 6s 8ms/step - loss: 0.0334 - acc: 0.9919 - val_loss: 0.0393 - val_acc: 0.9910\n",
      "Epoch 20/30\n",
      "775/775 [==============================] - 6s 7ms/step - loss: 0.0373 - acc: 0.9921 - val_loss: 0.0300 - val_acc: 0.9926\n",
      "Epoch 21/30\n",
      "775/775 [==============================] - 6s 7ms/step - loss: 0.0349 - acc: 0.9919 - val_loss: 0.0303 - val_acc: 0.9932\n",
      "Epoch 22/30\n",
      "775/775 [==============================] - 6s 7ms/step - loss: 0.0341 - acc: 0.9919 - val_loss: 0.0361 - val_acc: 0.9924\n",
      "Epoch 23/30\n",
      "775/775 [==============================] - 6s 7ms/step - loss: 0.0360 - acc: 0.9921 - val_loss: 0.0527 - val_acc: 0.9900\n",
      "Epoch 24/30\n",
      "775/775 [==============================] - 6s 7ms/step - loss: 0.0360 - acc: 0.9919 - val_loss: 0.0273 - val_acc: 0.9916\n",
      "Epoch 25/30\n",
      "775/775 [==============================] - 6s 7ms/step - loss: 0.0347 - acc: 0.9924 - val_loss: 0.0410 - val_acc: 0.9911\n",
      "Epoch 26/30\n",
      "775/775 [==============================] - 6s 7ms/step - loss: 0.0355 - acc: 0.9919 - val_loss: 0.0274 - val_acc: 0.9937\n",
      "Epoch 27/30\n",
      "775/775 [==============================] - 6s 7ms/step - loss: 0.0343 - acc: 0.9920 - val_loss: 0.0351 - val_acc: 0.9920\n",
      "Epoch 28/30\n",
      "775/775 [==============================] - 6s 7ms/step - loss: 0.0354 - acc: 0.9921 - val_loss: 0.0361 - val_acc: 0.9926\n",
      "Epoch 29/30\n",
      "775/775 [==============================] - 6s 8ms/step - loss: 0.0379 - acc: 0.9921 - val_loss: 0.0271 - val_acc: 0.9929\n",
      "Epoch 30/30\n",
      "775/775 [==============================] - 6s 8ms/step - loss: 0.0334 - acc: 0.9923 - val_loss: 0.1091 - val_acc: 0.9909\n"
     ]
    }
   ],
   "source": [
    "# Train\n",
    "history = model.fit(x_train, \n",
    "                    y_train, \n",
    "                    epochs=30, \n",
    "                    batch_size=100, \n",
    "                    validation_data=(x_val, y_val))"
   ]
  },
  {
   "cell_type": "code",
   "execution_count": 46,
   "metadata": {},
   "outputs": [
    {
     "data": {
      "image/png": "[encoded data removed]",
      "text/plain": [
       "<Figure size 432x288 with 1 Axes>"
      ]
     },
     "metadata": {
      "needs_background": "light"
     },
     "output_type": "display_data"
    },
    {
     "data": {
      "image/png": "[encoded data removed]",
      "text/plain": [
       "<Figure size 432x288 with 1 Axes>"
      ]
     },
     "metadata": {
      "needs_background": "light"
     },
     "output_type": "display_data"
    }
   ],
   "source": [
    "# Plot results\n",
    "import matplotlib.pyplot as plt\n",
    "\n",
    "acc = history.history['acc']\n",
    "val_acc = history.history['val_acc']\n",
    "loss = history.history['loss']\n",
    "val_loss = history.history['val_loss']\n",
    "\n",
    "epochs = range(1, len(acc) + 1)\n",
    "\n",
    "plt.plot(epochs, acc, 'bo', label='Training acc')\n",
    "plt.plot(epochs, val_acc, 'b', label='Validation acc')\n",
    "plt.title('Training and validation accuracy')\n",
    "plt.legend()\n",
    "\n",
    "plt.figure()\n",
    "\n",
    "plt.plot(epochs, loss, 'bo', label='Training loss')\n",
    "plt.plot(epochs, val_loss, 'b', label='Validation loss')\n",
    "plt.title('Training and validation loss')\n",
    "plt.legend()\n",
    "\n",
    "plt.show()"
   ]
  },
  {
   "cell_type": "code",
   "execution_count": 47,
   "metadata": {},
   "outputs": [],
   "source": [
    "# Save the model as a file\n",
    "models.save_model(model, model_filename)"
   ]
  },
  {
   "cell_type": "code",
   "execution_count": 48,
   "metadata": {},
   "outputs": [
    {
     "name": "stdout",
     "output_type": "stream",
     "text": [
      "218\n",
      "398\n",
      "413\n",
      "462\n",
      "468\n",
      "491\n",
      "563\n",
      "601\n",
      "631\n",
      "685\n",
      "740\n",
      "865\n",
      "893\n",
      "967\n",
      "977\n",
      "1002\n",
      "1004\n",
      "1157\n",
      "1173\n",
      "1231\n",
      "1279\n",
      "1282\n",
      "1322\n",
      "1357\n",
      "1433\n",
      "1437\n",
      "1524\n",
      "1570\n",
      "1610\n",
      "1701\n",
      "1736\n",
      "1889\n",
      "1948\n",
      "2096\n",
      "2097\n",
      "2098\n",
      "2154\n",
      "2188\n",
      "2419\n",
      "2436\n",
      "2450\n",
      "2475\n",
      "2479\n",
      "2490\n",
      "2491\n",
      "2530\n",
      "2625\n",
      "2648\n",
      "2705\n",
      "2710\n",
      "2730\n",
      "2893\n",
      "2904\n",
      "2951\n",
      "2986\n",
      "2993\n",
      "3060\n",
      "3085\n",
      "3176\n",
      "3210\n",
      "3274\n",
      "3474\n",
      "3522\n",
      "3551\n",
      "3559\n",
      "3678\n",
      "3684\n",
      "3745\n",
      "3846\n",
      "3854\n",
      "3919\n",
      "3922\n",
      "3967\n",
      "4054\n",
      "4191\n",
      "4216\n",
      "4332\n",
      "4496\n",
      "4530\n",
      "4586\n",
      "4681\n",
      "4693\n",
      "4715\n",
      "4764\n",
      "4770\n",
      "4858\n",
      "4862\n",
      "4892\n",
      "4901\n",
      "5021\n",
      "5072\n",
      "5073\n",
      "5144\n",
      "5234\n",
      "5279\n",
      "5288\n",
      "5325\n",
      "5374\n",
      "5430\n",
      "5575\n",
      "5579\n",
      "5675\n",
      "5686\n",
      "5825\n",
      "5925\n",
      "5982\n",
      "6008\n",
      "6026\n",
      "6177\n",
      "6202\n",
      "6248\n",
      "6276\n",
      "6303\n",
      "6457\n",
      "6554\n",
      "6559\n",
      "6595\n",
      "6644\n",
      "6761\n",
      "6821\n",
      "6856\n",
      "6864\n",
      "6871\n",
      "6898\n",
      "7035\n",
      "7114\n",
      "7235\n",
      "7288\n",
      "7292\n",
      "7299\n",
      "7422\n",
      "7515\n",
      "7543\n",
      "7545\n",
      "7640\n",
      "7660\n",
      "7669\n",
      "7688\n",
      "7697\n",
      "7711\n",
      "7807\n",
      "7843\n",
      "7848\n",
      "8029\n",
      "8107\n",
      "8162\n",
      "8245\n",
      "8306\n",
      "8524\n",
      "8536\n",
      "8571\n",
      "8627\n",
      "8632\n",
      "8644\n",
      "8709\n",
      "8729\n",
      "8770\n",
      "8778\n",
      "8822\n",
      "8832\n",
      "8946\n",
      "8980\n",
      "9016\n",
      "9050\n",
      "9089\n",
      "9108\n",
      "9115\n",
      "9179\n",
      "9223\n",
      "9295\n",
      "9333\n",
      "9342\n",
      "9345\n",
      "9371\n",
      "9422\n",
      "9449\n",
      "9495\n",
      "9545\n",
      "9548\n",
      "9557\n",
      "9611\n"
     ]
    }
   ],
   "source": [
    "# See which are 'stop'\n",
    "for idx, y in enumerate(y_test):\n",
    "    if y == 1:\n",
    "        print(idx)"
   ]
  },
  {
   "cell_type": "code",
   "execution_count": 49,
   "metadata": {},
   "outputs": [
    {
     "name": "stdout",
     "output_type": "stream",
     "text": [
      "Answer: 0.0  Prediction: [[0.00019279]]\n",
      "Answer: 0.0  Prediction: [[1.4243692e-08]]\n",
      "Answer: 0.0  Prediction: [[2.1966839e-08]]\n",
      "Answer: 0.0  Prediction: [[2.627506e-07]]\n",
      "Answer: 0.0  Prediction: [[3.358046e-07]]\n",
      "Answer: 0.0  Prediction: [[5.039134e-13]]\n",
      "Answer: 0.0  Prediction: [[2.7192726e-11]]\n",
      "Answer: 0.0  Prediction: [[4.9616127e-14]]\n",
      "Answer: 0.0  Prediction: [[9.5186704e-20]]\n",
      "Answer: 0.0  Prediction: [[2.6716914e-15]]\n"
     ]
    }
   ],
   "source": [
    "# TEST: Load model and run it against test set\n",
    "model = models.load_model(model_filename)\n",
    "for i in range(100, 110):\n",
    "    print('Answer:', y_test[i], ' Prediction:', model.predict(np.expand_dims(x_test[i], 0)))"
   ]
  },
  {
   "cell_type": "code",
   "execution_count": 50,
   "metadata": {},
   "outputs": [
    {
     "name": "stdout",
     "output_type": "stream",
     "text": [
      "304/304 [==============================] - 0s 978us/step - loss: 0.1305 - acc: 0.9906\n"
     ]
    },
    {
     "data": {
      "text/plain": [
       "[0.1304587423801422, 0.9906407594680786]"
      ]
     },
     "execution_count": 50,
     "metadata": {},
     "output_type": "execute_result"
    }
   ],
   "source": [
    "# Evaluate model with test set\n",
    "model.evaluate(x=x_test, y=y_test)"
   ]
  },
  {
   "cell_type": "code",
   "execution_count": null,
   "metadata": {},
   "outputs": [],
   "source": []
  }
 ],
 "metadata": {
  "kernelspec": {
   "display_name": "Python 3",
   "language": "python",
   "name": "python3"
  },
  "language_info": {
   "codemirror_mode": {
    "name": "ipython",
    "version": 3
   },
   "file_extension": ".py",
   "mimetype": "text/x-python",
   "name": "python",
   "nbconvert_exporter": "python",
   "pygments_lexer": "ipython3",
   "version": "3.9.5"
  }
 },
 "nbformat": 4,
 "nbformat_minor": 2
}
